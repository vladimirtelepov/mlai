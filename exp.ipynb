{
 "cells": [
  {
   "cell_type": "markdown",
   "source": [
    "Heart desease dataset\n",
    "https://www.kaggle.com/datasets/kamilpytlak/personal-key-indicators-of-heart-disease"
   ],
   "metadata": {
    "collapsed": false,
    "pycharm": {
     "name": "#%% md\n"
    },
    "id": "dbYa9FmCQJU_"
   }
  },
  {
   "cell_type": "code",
   "execution_count": 1,
   "metadata": {
    "collapsed": true,
    "id": "S0Ej-4mLQJVE"
   },
   "outputs": [],
   "source": [
    "import pandas as pd\n",
    "import numpy as np\n",
    "import matplotlib.pyplot as plt\n",
    "from sklearn.feature_extraction import DictVectorizer\n",
    "from sklearn.preprocessing import StandardScaler\n",
    "from sklearn.model_selection import train_test_split, GridSearchCV\n",
    "from sklearn.metrics import classification_report, make_scorer, f1_score\n",
    "from sklearn import linear_model, svm, neighbors, naive_bayes, ensemble\n",
    "from sklearn.tree import DecisionTreeClassifier\n",
    "from sklearn.neural_network import MLPClassifier\n",
    "\n",
    "plt.rcParams[\"figure.figsize\"] = (10, 10)"
   ]
  },
  {
   "cell_type": "code",
   "execution_count": 2,
   "outputs": [
    {
     "name": "stdout",
     "output_type": "stream",
     "text": [
      "<class 'pandas.core.frame.DataFrame'>\n",
      "RangeIndex: 319795 entries, 0 to 319794\n",
      "Data columns (total 18 columns):\n",
      " #   Column            Non-Null Count   Dtype  \n",
      "---  ------            --------------   -----  \n",
      " 0   HeartDisease      319795 non-null  object \n",
      " 1   BMI               319795 non-null  float64\n",
      " 2   Smoking           319795 non-null  object \n",
      " 3   AlcoholDrinking   319795 non-null  object \n",
      " 4   Stroke            319795 non-null  object \n",
      " 5   PhysicalHealth    319795 non-null  float64\n",
      " 6   MentalHealth      319795 non-null  float64\n",
      " 7   DiffWalking       319795 non-null  object \n",
      " 8   Sex               319795 non-null  object \n",
      " 9   AgeCategory       319795 non-null  object \n",
      " 10  Race              319795 non-null  object \n",
      " 11  Diabetic          319795 non-null  object \n",
      " 12  PhysicalActivity  319795 non-null  object \n",
      " 13  GenHealth         319795 non-null  object \n",
      " 14  SleepTime         319795 non-null  float64\n",
      " 15  Asthma            319795 non-null  object \n",
      " 16  KidneyDisease     319795 non-null  object \n",
      " 17  SkinCancer        319795 non-null  object \n",
      "dtypes: float64(4), object(14)\n",
      "memory usage: 43.9+ MB\n"
     ]
    }
   ],
   "source": [
    "df = pd.read_csv(\"heart_2020_cleaned.csv\")\n",
    "df.info();"
   ],
   "metadata": {
    "pycharm": {
     "name": "#%%\n"
    },
    "colab": {
     "base_uri": "https://localhost:8080/"
    },
    "id": "DFlQnkL_QJVG",
    "outputId": "357dd1f4-a759-4e9c-b329-7fc3b3b1d9c2"
   }
  },
  {
   "cell_type": "code",
   "execution_count": 3,
   "outputs": [
    {
     "name": "stdout",
     "output_type": "stream",
     "text": [
      "HeartDisease 2\n",
      "BMI 3604\n",
      "Smoking 2\n",
      "AlcoholDrinking 2\n",
      "Stroke 2\n",
      "PhysicalHealth 31\n",
      "MentalHealth 31\n",
      "DiffWalking 2\n",
      "Sex 2\n",
      "AgeCategory 13\n",
      "Race 6\n",
      "Diabetic 4\n",
      "PhysicalActivity 2\n",
      "GenHealth 5\n",
      "SleepTime 24\n",
      "Asthma 2\n",
      "KidneyDisease 2\n",
      "SkinCancer 2\n"
     ]
    }
   ],
   "source": [
    "for col in df:\n",
    "    print(col, len(df[col].unique()))"
   ],
   "metadata": {
    "pycharm": {
     "name": "#%%\n"
    },
    "colab": {
     "base_uri": "https://localhost:8080/"
    },
    "id": "FGIK3D9RQJVH",
    "outputId": "ae19ad4c-eeaa-43f8-96f9-18c3c98b6a56"
   }
  },
  {
   "cell_type": "markdown",
   "source": [
    "В исходных данных есть 1 числовой признак, 9 бинарных, 6 категориальных. Бинарные и категориальные, за исключением\n",
    "трех можно считать номинальными. Целевая переменная бинарная. Преобразуем категориальные признаки к бинарным, для\n",
    "исаользования моделей, которые не поддерживают наличие категориальных признаков."
   ],
   "metadata": {
    "collapsed": false,
    "pycharm": {
     "name": "#%% md\n"
    }
   }
  },
  {
   "cell_type": "code",
   "execution_count": 4,
   "outputs": [],
   "source": [
    "num_names = [\"BMI\"]\n",
    "cat_names = [x for x in df.columns if x not in num_names and x != \"HeartDisease\"]\n",
    "\n",
    "df_cat, df_num = df[cat_names], df[num_names]\n",
    "d_vec = DictVectorizer(sparse=False)\n",
    "n_vec = StandardScaler()\n",
    "\n",
    "x_b = d_vec.fit_transform(df_cat.transpose().to_dict().values())\n",
    "\n",
    "maping = {\n",
    "    \"Smoking\": {\"No\": 0, \"Yes\": 1},\n",
    "    \"AlcoholDrinking\": {\"No\": 0, \"Yes\": 1},\n",
    "    \"Stroke\": {\"No\": 0, \"Yes\": 1},\n",
    "    \"PhysicalHealth\": {v: int(v) for v in df[\"PhysicalHealth\"].unique()},\n",
    "    \"MentalHealth\": {v: int(v) for v in df[\"MentalHealth\"].unique()},\n",
    "    \"DiffWalking\": {\"No\": 0, \"Yes\": 1},\n",
    "    \"Sex\": {\"Male\": 0, \"Female\": 1},\n",
    "    \"AgeCategory\": {v: i for i, v in enumerate(sorted(df[\"AgeCategory\"].unique()))},\n",
    "    \"Race\": {v: i for i, v in enumerate(df[\"Race\"].unique())},\n",
    "    \"Diabetic\": {\"No\": 0, \"No, borderline diabetes\": 1, \"Yes\": 2, \"Yes (during pregnancy)\": 3},\n",
    "    \"PhysicalActivity\": {\"No\": 0, \"Yes\": 1},\n",
    "    \"GenHealth\": {\"Poor\": 0, \"Fair\": 1, \"Good\": 2, \"Very good\": 3, \"Excellent\": 4},\n",
    "    \"SleepTime\": {v: int(v) for v in df[\"SleepTime\"].unique()},\n",
    "    \"Asthma\": {\"No\": 0, \"Yes\": 1},\n",
    "    \"KidneyDisease\": {\"No\": 0, \"Yes\": 1},\n",
    "    \"SkinCancer\": {\"No\": 0, \"Yes\": 1}\n",
    "}\n",
    "\n",
    "\n",
    "def vectorize(x):\n",
    "    m = maping[x.name]\n",
    "    return np.array([m[v] for v in x])\n",
    "\n",
    "\n",
    "x_c = df_cat.apply(vectorize).values\n",
    "x_n = n_vec.fit_transform(df_num.values)\n",
    "y = df[\"HeartDisease\"].apply(lambda x: 1 if x == \"Yes\" else 0).values\n",
    "x_bn = np.concatenate([x_b, x_n], axis=1)\n",
    "x_cn = np.concatenate([x_c, x_n], axis=1)"
   ],
   "metadata": {
    "pycharm": {
     "name": "#%%\n"
    },
    "id": "KrPYYhyNQJVI"
   }
  },
  {
   "cell_type": "markdown",
   "source": [
    "Целевая переменная имеет скошенное распределение, поэтому будем пользоваться метрикой f1 для оценки качества модели."
   ],
   "metadata": {
    "collapsed": false
   }
  },
  {
   "cell_type": "code",
   "execution_count": 5,
   "outputs": [
    {
     "data": {
      "text/plain": "<Figure size 720x720 with 1 Axes>",
      "image/png": "[encoded data removed]"
     },
     "metadata": {
      "needs_background": "light"
     },
     "output_type": "display_data"
    }
   ],
   "source": [
    "fig, ax = plt.subplots()\n",
    "bars = ax.bar([0, 1], [(y == 0).sum() / len(y), (y == 1).sum() / len(y)])\n",
    "ax.bar_label(bars);"
   ],
   "metadata": {
    "pycharm": {
     "name": "#%%\n"
    },
    "colab": {
     "base_uri": "https://localhost:8080/",
     "height": 592
    },
    "id": "ui-kfC04QJVI",
    "outputId": "cc553b49-7dc0-4cda-f88b-cc4ee4d9ccfd"
   }
  },
  {
   "cell_type": "markdown",
   "source": [
    "Выполним разбиение датасета на подвыборки со стратификацией."
   ],
   "metadata": {
    "collapsed": false
   }
  },
  {
   "cell_type": "code",
   "execution_count": null,
   "outputs": [],
   "source": [
    "seed = 42\n",
    "n_jobs = None\n",
    "x_bn_train, x_bn_test, x_cn_train, x_cn_test, x_c_train, x_c_test, y_train, y_test = \\\n",
    "    train_test_split(x_bn, x_cn, x_c, y, test_size=0.2, random_state=seed, stratify=y)"
   ],
   "metadata": {
    "collapsed": false,
    "pycharm": {
     "name": "#%%\n"
    }
   }
  },
  {
   "cell_type": "code",
   "execution_count": 7,
   "outputs": [],
   "source": [
    "def test_model(x_train, x_test, y_train, y_test, model):\n",
    "    model.fit(x_train, y_train)\n",
    "    y_pred = model.predict(x_test)\n",
    "    print(classification_report(y_test, y_pred, digits=3))\n",
    "    return f1_score(y_test, y_pred)\n",
    "\n",
    "scorer = make_scorer(f1_score, zero_division=0)\n"
   ],
   "metadata": {
    "pycharm": {
     "name": "#%%\n"
    },
    "id": "s6q1gwGHQJVJ"
   }
  },
  {
   "cell_type": "markdown",
   "source": [
    "Обучим различные модели."
   ],
   "metadata": {
    "collapsed": false
   }
  },
  {
   "cell_type": "code",
   "execution_count": null,
   "outputs": [
    {
     "output_type": "stream",
     "name": "stdout",
     "text": [
      "              precision    recall  f1-score   support\n",
      "\n",
      "           0      0.973     0.743     0.842     58484\n",
      "           1      0.221     0.778     0.344      5475\n",
      "\n",
      "    accuracy                          0.746     63959\n",
      "   macro avg      0.597     0.761     0.593     63959\n",
      "weighted avg      0.908     0.746     0.800     63959\n",
      "\n"
     ]
    },
    {
     "output_type": "execute_result",
     "data": {
      "text/plain": [
       "0.3439783600468327"
      ]
     },
     "metadata": {},
     "execution_count": 9
    }
   ],
   "source": [
    "rid_reg = linear_model.RidgeClassifierCV(class_weight=\"balanced\", scoring=scorer)\n",
    "test_model(x_bn_train, x_bn_test, y_train, y_test, rid_reg)"
   ],
   "metadata": {
    "pycharm": {
     "name": "#%%\n"
    },
    "colab": {
     "base_uri": "https://localhost:8080/"
    },
    "id": "3E4ZrmfsQJVK",
    "outputId": "3fe10042-d406-4af6-bb6b-a78c08267e5a"
   }
  },
  {
   "cell_type": "code",
   "execution_count": null,
   "outputs": [
    {
     "output_type": "stream",
     "name": "stdout",
     "text": [
      "              precision    recall  f1-score   support\n",
      "\n",
      "           0      0.971     0.761     0.853     58484\n",
      "           1      0.228     0.755     0.351      5475\n",
      "\n",
      "    accuracy                          0.761     63959\n",
      "   macro avg      0.600     0.758     0.602     63959\n",
      "weighted avg      0.907     0.761     0.810     63959\n",
      "\n"
     ]
    },
    {
     "output_type": "execute_result",
     "data": {
      "text/plain": [
       "0.350686789893166"
      ]
     },
     "metadata": {},
     "execution_count": 27
    }
   ],
   "source": [
    "log_reg = linear_model.LogisticRegressionCV(random_state=seed, class_weight=\"balanced\", max_iter=1000, scoring=scorer)\n",
    "test_model(x_bn_train, x_bn_test, y_train, y_test, log_reg)"
   ],
   "metadata": {
    "pycharm": {
     "name": "#%%\n"
    },
    "colab": {
     "base_uri": "https://localhost:8080/"
    },
    "id": "-WJHHBrCQJVL",
    "outputId": "d83193d7-b093-42eb-c80b-5bb2d7530b29"
   }
  },
  {
   "cell_type": "code",
   "execution_count": 8,
   "outputs": [
    {
     "name": "stderr",
     "output_type": "stream",
     "text": [
      "/home/vladimir/programming/mlai/venv/lib/python3.8/site-packages/sklearn/svm/_base.py:1206: ConvergenceWarning: Liblinear failed to converge, increase the number of iterations.\n",
      "  warnings.warn(\n",
      "/home/vladimir/programming/mlai/venv/lib/python3.8/site-packages/sklearn/svm/_base.py:1206: ConvergenceWarning: Liblinear failed to converge, increase the number of iterations.\n",
      "  warnings.warn(\n",
      "/home/vladimir/programming/mlai/venv/lib/python3.8/site-packages/sklearn/svm/_base.py:1206: ConvergenceWarning: Liblinear failed to converge, increase the number of iterations.\n",
      "  warnings.warn(\n",
      "/home/vladimir/programming/mlai/venv/lib/python3.8/site-packages/sklearn/svm/_base.py:1206: ConvergenceWarning: Liblinear failed to converge, increase the number of iterations.\n",
      "  warnings.warn(\n",
      "/home/vladimir/programming/mlai/venv/lib/python3.8/site-packages/sklearn/svm/_base.py:1206: ConvergenceWarning: Liblinear failed to converge, increase the number of iterations.\n",
      "  warnings.warn(\n"
     ]
    },
    {
     "name": "stdout",
     "output_type": "stream",
     "text": [
      "              precision    recall  f1-score   support\n",
      "\n",
      "           0      0.964     0.804     0.876     58484\n",
      "           1      0.243     0.675     0.358      5475\n",
      "\n",
      "    accuracy                          0.793     63959\n",
      "   macro avg      0.604     0.739     0.617     63959\n",
      "weighted avg      0.902     0.793     0.832     63959\n",
      "\n"
     ]
    },
    {
     "data": {
      "text/plain": "0.35791715060007745"
     },
     "execution_count": 8,
     "metadata": {},
     "output_type": "execute_result"
    }
   ],
   "source": [
    "parameters = {\"C\": [1e0, 1e1], \"loss\": [\"hinge\", \"squared_hinge\"], \"random_state\": [seed], \"max_iter\": [10000],\n",
    "              \"class_weight\": [\"balanced\"]}\n",
    "svc = GridSearchCV(svm.LinearSVC(), parameters, scoring=scorer, n_jobs=n_jobs, cv=[(slice(None), slice(None))])\n",
    "test_model(x_bn_train, x_bn_test, y_train, y_test, svc)"
   ],
   "metadata": {
    "pycharm": {
     "name": "#%%\n"
    },
    "id": "IX5n6yedQJVL"
   }
  },
  {
   "cell_type": "code",
   "execution_count": 9,
   "outputs": [
    {
     "name": "stdout",
     "output_type": "stream",
     "text": [
      "              precision    recall  f1-score   support\n",
      "\n",
      "           0      0.923     0.970     0.946     58484\n",
      "           1      0.299     0.136     0.187      5475\n",
      "\n",
      "    accuracy                          0.899     63959\n",
      "   macro avg      0.611     0.553     0.567     63959\n",
      "weighted avg      0.870     0.899     0.881     63959\n",
      "\n"
     ]
    },
    {
     "data": {
      "text/plain": "0.18735891647855532"
     },
     "execution_count": 9,
     "metadata": {},
     "output_type": "execute_result"
    }
   ],
   "source": [
    "knn = neighbors.KNeighborsClassifier(n_neighbors=5, weights=\"distance\", p=1, algorithm=\"kd_tree\")\n",
    "test_model(x_bn_train, x_bn_test, y_train, y_test, knn)"
   ],
   "metadata": {
    "pycharm": {
     "name": "#%%\n"
    },
    "id": "yeUFi6tuQJVM"
   }
  },
  {
   "cell_type": "code",
   "execution_count": null,
   "outputs": [
    {
     "output_type": "stream",
     "name": "stdout",
     "text": [
      "              precision    recall  f1-score   support\n",
      "\n",
      "           0      0.933     0.858     0.894     58484\n",
      "           1      0.184     0.342     0.239      5475\n",
      "\n",
      "    accuracy                          0.814     63959\n",
      "   macro avg      0.558     0.600     0.567     63959\n",
      "weighted avg      0.869     0.814     0.838     63959\n",
      "\n"
     ]
    },
    {
     "output_type": "execute_result",
     "data": {
      "text/plain": [
       "0.23921368394179215"
      ]
     },
     "metadata": {},
     "execution_count": 10
    }
   ],
   "source": [
    "parameters = {\"metric\": [\"manhattan\", \"euclidean\"]}\n",
    "knn_centroid = GridSearchCV(neighbors.NearestCentroid(), parameters, scoring=scorer, n_jobs=n_jobs,\n",
    "                            cv=[(slice(None), slice(None))])\n",
    "test_model(x_bn_train, x_bn_test, y_train, y_test, knn_centroid)"
   ],
   "metadata": {
    "pycharm": {
     "name": "#%%\n"
    },
    "colab": {
     "base_uri": "https://localhost:8080/"
    },
    "id": "S6yhmxWMQJVM",
    "outputId": "a7f01f41-e049-4b5a-d1e4-28800aff52b1"
   }
  },
  {
   "cell_type": "code",
   "execution_count": null,
   "outputs": [
    {
     "output_type": "stream",
     "name": "stdout",
     "text": [
      "              precision    recall  f1-score   support\n",
      "\n",
      "           0      0.934     0.891     0.912     58484\n",
      "           1      0.218     0.324     0.260      5475\n",
      "\n",
      "    accuracy                          0.842     63959\n",
      "   macro avg      0.576     0.607     0.586     63959\n",
      "weighted avg      0.872     0.842     0.856     63959\n",
      "\n"
     ]
    },
    {
     "output_type": "execute_result",
     "data": {
      "text/plain": [
       "0.26025688073394493"
      ]
     },
     "metadata": {},
     "execution_count": 11
    }
   ],
   "source": [
    "mn_nb = naive_bayes.MultinomialNB()\n",
    "test_model(x_c_train, x_c_test, y_train, y_test, mn_nb)"
   ],
   "metadata": {
    "pycharm": {
     "name": "#%%"
    },
    "colab": {
     "base_uri": "https://localhost:8080/"
    },
    "id": "Whr6O9RJQJVM",
    "outputId": "6960429c-3eb4-4326-86dd-5a3f5bb2c5f2"
   }
  },
  {
   "cell_type": "code",
   "source": [
    "c_nb = naive_bayes.ComplementNB()\n",
    "test_model(x_c_train, x_c_test, y_train, y_test, c_nb)"
   ],
   "metadata": {
    "colab": {
     "base_uri": "https://localhost:8080/"
    },
    "id": "D9Khd1bcd8MI",
    "outputId": "7f35e6cd-c20c-4606-ada5-673965879c11"
   },
   "execution_count": null,
   "outputs": [
    {
     "output_type": "stream",
     "name": "stdout",
     "text": [
      "              precision    recall  f1-score   support\n",
      "\n",
      "           0      0.939     0.854     0.894     58484\n",
      "           1      0.207     0.408     0.274      5475\n",
      "\n",
      "    accuracy                          0.815     63959\n",
      "   macro avg      0.573     0.631     0.584     63959\n",
      "weighted avg      0.876     0.815     0.841     63959\n",
      "\n"
     ]
    },
    {
     "output_type": "execute_result",
     "data": {
      "text/plain": [
       "0.27444232778221594"
      ]
     },
     "metadata": {},
     "execution_count": 12
    }
   ]
  },
  {
   "cell_type": "code",
   "source": [
    "k = len(x_b)\n",
    "b_nb = naive_bayes.BernoulliNB()\n",
    "test_model(x_bn_train[: k], x_bn_test[: k], y_train, y_test, b_nb)"
   ],
   "metadata": {
    "colab": {
     "base_uri": "https://localhost:8080/"
    },
    "id": "xPZ1JMFKf9-h",
    "outputId": "dee8d56f-0df8-4590-cebc-a86fbab9154c"
   },
   "execution_count": null,
   "outputs": [
    {
     "output_type": "stream",
     "name": "stdout",
     "text": [
      "              precision    recall  f1-score   support\n",
      "\n",
      "           0      0.949     0.887     0.917     58484\n",
      "           1      0.287     0.487     0.361      5475\n",
      "\n",
      "    accuracy                          0.853     63959\n",
      "   macro avg      0.618     0.687     0.639     63959\n",
      "weighted avg      0.892     0.853     0.869     63959\n",
      "\n"
     ]
    },
    {
     "output_type": "execute_result",
     "data": {
      "text/plain": [
       "0.36139519133085"
      ]
     },
     "metadata": {},
     "execution_count": 13
    }
   ]
  },
  {
   "cell_type": "code",
   "source": [
    "c_nb = naive_bayes.CategoricalNB()\n",
    "test_model(x_c_train, x_c_test, y_train, y_test, c_nb)"
   ],
   "metadata": {
    "colab": {
     "base_uri": "https://localhost:8080/"
    },
    "id": "sEq0o7cggSd7",
    "outputId": "2777a03b-e8bf-4f01-970b-7c516cd5624b"
   },
   "execution_count": null,
   "outputs": [
    {
     "output_type": "stream",
     "name": "stdout",
     "text": [
      "              precision    recall  f1-score   support\n",
      "\n",
      "           0      0.943     0.920     0.932     58484\n",
      "           1      0.324     0.407     0.361      5475\n",
      "\n",
      "    accuracy                          0.876     63959\n",
      "   macro avg      0.633     0.664     0.646     63959\n",
      "weighted avg      0.890     0.876     0.883     63959\n",
      "\n"
     ]
    },
    {
     "output_type": "execute_result",
     "data": {
      "text/plain": [
       "0.3606371795908466"
      ]
     },
     "metadata": {},
     "execution_count": 14
    }
   ]
  },
  {
   "cell_type": "code",
   "source": [
    "parameters = {\"criterion\": [\"gini\", \"entropy\"], \"random_state\": [seed], \"class_weight\": [\"balanced\"]}\n",
    "dt = GridSearchCV(DecisionTreeClassifier(), parameters, scoring=scorer, n_jobs=n_jobs, cv=[(slice(None), slice(None))])\n",
    "test_model(x_bn_train, x_bn_test, y_train, y_test, dt)"
   ],
   "metadata": {
    "id": "JnEmSTMV-lyr",
    "colab": {
     "base_uri": "https://localhost:8080/"
    },
    "outputId": "96d93e1c-8968-46c7-ad21-712028b65c01"
   },
   "execution_count": null,
   "outputs": [
    {
     "output_type": "stream",
     "name": "stdout",
     "text": [
      "              precision    recall  f1-score   support\n",
      "\n",
      "           0      0.927     0.924     0.926     58484\n",
      "           1      0.219     0.227     0.223      5475\n",
      "\n",
      "    accuracy                          0.864     63959\n",
      "   macro avg      0.573     0.576     0.574     63959\n",
      "weighted avg      0.867     0.864     0.866     63959\n",
      "\n"
     ]
    },
    {
     "output_type": "execute_result",
     "data": {
      "text/plain": [
       "0.22301836094939548"
      ]
     },
     "metadata": {},
     "execution_count": 19
    }
   ]
  },
  {
   "cell_type": "code",
   "source": [
    "parameters = {\"criterion\": [\"gini\", \"entropy\"], \"random_state\": [seed], \"class_weight\": [\"balanced\"],\n",
    "              \"n_estimators\": [10, 50, 100, 200]}\n",
    "rf = GridSearchCV(ensemble.RandomForestClassifier(), parameters, scoring=scorer, n_jobs=n_jobs,\n",
    "                  cv=[(slice(None), slice(None))])\n",
    "test_model(x_bn_train, x_bn_test, y_train, y_test, rf)"
   ],
   "metadata": {
    "id": "O-n9xOIlMPo3",
    "colab": {
     "base_uri": "https://localhost:8080/"
    },
    "outputId": "a44e7199-8b96-48b0-dfea-011e19807044"
   },
   "execution_count": null,
   "outputs": [
    {
     "output_type": "stream",
     "name": "stdout",
     "text": [
      "              precision    recall  f1-score   support\n",
      "\n",
      "           0      0.922     0.973     0.947     58484\n",
      "           1      0.295     0.123     0.173      5475\n",
      "\n",
      "    accuracy                          0.900     63959\n",
      "   macro avg      0.609     0.548     0.560     63959\n",
      "weighted avg      0.868     0.900     0.880     63959\n",
      "\n"
     ]
    },
    {
     "output_type": "execute_result",
     "data": {
      "text/plain": [
       "0.17320598864223025"
      ]
     },
     "metadata": {},
     "execution_count": 25
    }
   ]
  },
  {
   "cell_type": "code",
   "source": [
    "parameters = {\"learning_rate\": [0.1, 1.0], \"random_state\": [seed], \"max_iter\": [10, 50, 100, 200],\n",
    "              \"categorical_features\": [1] * x_c.shape[1] + [0] * x_n.shape[1]}\n",
    "hgbc = GridSearchCV(ensemble.HistGradientBoostingClassifier(), parameters, scoring=scorer, n_jobs=n_jobs,\n",
    "                    cv=[(slice(None), slice(None))])\n",
    "test_model(x_cn_train, x_cn_test, y_train, y_test, hgbc)"
   ],
   "metadata": {
    "id": "_gnA7-fblCQd",
    "colab": {
     "base_uri": "https://localhost:8080/"
    },
    "outputId": "1d426c9a-45c8-4b8c-88a1-2efd1b73a2d4"
   },
   "execution_count": null,
   "outputs": [
    {
     "output_type": "stream",
     "name": "stdout",
     "text": [
      "              precision    recall  f1-score   support\n",
      "\n",
      "           0      0.922     0.987     0.953     58484\n",
      "           1      0.430     0.102     0.165      5475\n",
      "\n",
      "    accuracy                          0.912     63959\n",
      "   macro avg      0.676     0.545     0.559     63959\n",
      "weighted avg      0.879     0.912     0.886     63959\n",
      "\n"
     ]
    },
    {
     "output_type": "execute_result",
     "data": {
      "text/plain": [
       "0.16504281074697372"
      ]
     },
     "metadata": {},
     "execution_count": 64
    }
   ]
  },
  {
   "cell_type": "code",
   "source": [
    "parameters = {\"learning_rate\": [0.1, 1.0], \"random_state\": [seed], \"n_estimators\": [10, 50, 100, 200]}\n",
    "abc = GridSearchCV(ensemble.AdaBoostClassifier(), parameters, scoring=scorer, n_jobs=n_jobs,\n",
    "                   cv=[(slice(None), slice(None))])\n",
    "test_model(x_cn_train, x_cn_test, y_train, y_test, abc)"
   ],
   "metadata": {
    "colab": {
     "base_uri": "https://localhost:8080/"
    },
    "id": "KEWo0Qnf8x5t",
    "outputId": "06ab7801-6767-4d41-860c-2f39ebb65397"
   },
   "execution_count": null,
   "outputs": [
    {
     "output_type": "stream",
     "name": "stdout",
     "text": [
      "              precision    recall  f1-score   support\n",
      "\n",
      "           0      0.924     0.990     0.956     58484\n",
      "           1      0.551     0.129     0.209      5475\n",
      "\n",
      "    accuracy                          0.916     63959\n",
      "   macro avg      0.737     0.560     0.583     63959\n",
      "weighted avg      0.892     0.916     0.892     63959\n",
      "\n"
     ]
    },
    {
     "output_type": "execute_result",
     "data": {
      "text/plain": [
       "0.20943647389439435"
      ]
     },
     "metadata": {},
     "execution_count": 65
    }
   ]
  },
  {
   "cell_type": "code",
   "source": [
    "parameters = {\"learning_rate\": [0.1, 1.0], \"random_state\": [seed], \"n_estimators\": [10, 50, 100, 200]}\n",
    "gbc = GridSearchCV(ensemble.GradientBoostingClassifier(), parameters, scoring=scorer, n_jobs=n_jobs,\n",
    "                   cv=[(slice(None), slice(None))])\n",
    "test_model(x_cn_train, x_cn_test, y_train, y_test, gbc)"
   ],
   "metadata": {
    "colab": {
     "base_uri": "https://localhost:8080/"
    },
    "id": "cU6HJtTqndlk",
    "outputId": "51078054-fb03-4a05-86d0-7e043704ee7f"
   },
   "execution_count": null,
   "outputs": [
    {
     "output_type": "stream",
     "name": "stdout",
     "text": [
      "              precision    recall  f1-score   support\n",
      "\n",
      "           0      0.924     0.988     0.955     58484\n",
      "           1      0.504     0.131     0.208      5475\n",
      "\n",
      "    accuracy                          0.915     63959\n",
      "   macro avg      0.714     0.560     0.581     63959\n",
      "weighted avg      0.888     0.915     0.891     63959\n",
      "\n"
     ]
    },
    {
     "output_type": "execute_result",
     "data": {
      "text/plain": [
       "0.2081159420289855"
      ]
     },
     "metadata": {},
     "execution_count": 66
    }
   ]
  },
  {
   "cell_type": "code",
   "source": [
    "parameters = {\"hidden_layer_sizes\": [(64, ), (128, ), (128, 64)], \"activation\": [\"relu\"], \"batch_size\": [256],\n",
    "              \"early_stopping\": [True], \"random_state\": [seed]}\n",
    "mlp = GridSearchCV(MLPClassifier(), parameters, scoring=scorer, n_jobs=n_jobs, cv=[(slice(None), slice(None))])\n",
    "test_model(x_bn_train, x_bn_test, y_train, y_test, mlp)"
   ],
   "metadata": {
    "id": "FtZlvgmQpjj2"
   },
   "execution_count": 14,
   "outputs": [
    {
     "name": "stdout",
     "output_type": "stream",
     "text": [
      "              precision    recall  f1-score   support\n",
      "\n",
      "           0      0.921     0.994     0.956     58484\n",
      "           1      0.577     0.094     0.162      5475\n",
      "\n",
      "    accuracy                          0.917     63959\n",
      "   macro avg      0.749     0.544     0.559     63959\n",
      "weighted avg      0.892     0.917     0.888     63959\n",
      "\n"
     ]
    },
    {
     "data": {
      "text/plain": "0.1617462311557789"
     },
     "execution_count": 14,
     "metadata": {},
     "output_type": "execute_result"
    }
   ]
  },
  {
   "cell_type": "markdown",
   "source": [
    "Лучший результат показали модели Байесовских классификаторов. Скорее всего из-за того, что напрямую учитывают\n",
    "распределение категориальных признаков(16 из всех 17) внутри каждого значения бинарной целевой перемнной. На\n",
    "следующем месте расположились линейные модели. Метрические, ансамблевые модели и персептрон показали худший\n",
    "результат. Было замечено, что модели с штрафом, обратно пропорциональным размеру классов, модели дают существенно лучшие результаты.\n",
    "Для улучшения качества классификации возможно стоит попробовать глубокие модели, для категориальных признаков обучать\n",
    " ембеддинги. Также стоит попробовать алгоритмы обнаружения аномалий.\n"
   ],
   "metadata": {
    "collapsed": false,
    "pycharm": {
     "name": "#%% md\n"
    }
   }
  }
 ],
 "metadata": {
  "kernelspec": {
   "display_name": "Python 3",
   "language": "python",
   "name": "python3"
  },
  "language_info": {
   "codemirror_mode": {
    "name": "ipython",
    "version": 2
   },
   "file_extension": ".py",
   "mimetype": "text/x-python",
   "name": "python",
   "nbconvert_exporter": "python",
   "pygments_lexer": "ipython2",
   "version": "2.7.6"
  },
  "colab": {
   "name": "exp.ipynb",
   "provenance": [],
   "collapsed_sections": []
  },
  "accelerator": "GPU"
 },
 "nbformat": 4,
 "nbformat_minor": 0
}